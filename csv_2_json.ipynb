{
 "cells": [
  {
   "cell_type": "code",
   "execution_count": 4,
   "id": "a56c4445",
   "metadata": {},
   "outputs": [
    {
     "name": "stdout",
     "output_type": "stream",
     "text": [
      "Data converted and saved to converted_data.json\n"
     ]
    }
   ],
   "source": [
    "import csv\n",
    "import json\n",
    "\n",
    "# Load the data from 'chord.csv' and map to JSON format\n",
    "def convert_csv_to_json(input_file, output_file):\n",
    "    # Define the structure of the JSON data\n",
    "    data = []\n",
    "\n",
    "    # Read the CSV file\n",
    "    with open(input_file, mode='r', encoding='utf-8-sig') as file:\n",
    "        reader = csv.DictReader(file)\n",
    "        \n",
    "        # Process each row in the CSV\n",
    "        for row in reader:\n",
    "            data.append({\n",
    "                \"origin\": row[\"origin\"],\n",
    "                \"destination\": row[\"destination\"],\n",
    "                \"quantity\": int(row[\"quantity\"]),\n",
    "                \"weapon\": row[\"weapon\"],\n",
    "                \"year\": int(row[\"year\"])\n",
    "            })\n",
    "\n",
    "    # Write the data to a JSON file\n",
    "    with open(output_file, mode='w', encoding='utf-8') as json_file:\n",
    "        json.dump(data, json_file, indent=4)\n",
    "\n",
    "# File paths\n",
    "input_file = 'chord.csv'  # Replace with your actual path if needed\n",
    "output_file = 'converted_data.json'\n",
    "\n",
    "# Convert the CSV to JSON format\n",
    "convert_csv_to_json(input_file, output_file)\n",
    "print(f\"Data converted and saved to {output_file}\")\n"
   ]
  }
 ],
 "metadata": {
  "kernelspec": {
   "display_name": "Python 3 (ipykernel)",
   "language": "python",
   "name": "python3"
  },
  "language_info": {
   "codemirror_mode": {
    "name": "ipython",
    "version": 3
   },
   "file_extension": ".py",
   "mimetype": "text/x-python",
   "name": "python",
   "nbconvert_exporter": "python",
   "pygments_lexer": "ipython3",
   "version": "3.11.4"
  }
 },
 "nbformat": 4,
 "nbformat_minor": 5
}
